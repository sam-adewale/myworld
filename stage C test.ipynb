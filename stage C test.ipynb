{
 "cells": [
  {
   "cell_type": "code",
   "execution_count": 1,
   "metadata": {},
   "outputs": [],
   "source": [
    "import pandas as pd\n",
    "import numpy as np\n",
    "import os"
   ]
  },
  {
   "cell_type": "code",
   "execution_count": 2,
   "metadata": {},
   "outputs": [],
   "source": [
    "data_set=pd.read_csv(r'c:\\users\\omolade\\desktop\\hamoye\\Data_for_UCI_named.csv')"
   ]
  },
  {
   "cell_type": "code",
   "execution_count": 3,
   "metadata": {},
   "outputs": [
    {
     "data": {
      "text/html": [
       "<div>\n",
       "<style scoped>\n",
       "    .dataframe tbody tr th:only-of-type {\n",
       "        vertical-align: middle;\n",
       "    }\n",
       "\n",
       "    .dataframe tbody tr th {\n",
       "        vertical-align: top;\n",
       "    }\n",
       "\n",
       "    .dataframe thead th {\n",
       "        text-align: right;\n",
       "    }\n",
       "</style>\n",
       "<table border=\"1\" class=\"dataframe\">\n",
       "  <thead>\n",
       "    <tr style=\"text-align: right;\">\n",
       "      <th></th>\n",
       "      <th>tau1</th>\n",
       "      <th>tau2</th>\n",
       "      <th>tau3</th>\n",
       "      <th>tau4</th>\n",
       "      <th>p1</th>\n",
       "      <th>p2</th>\n",
       "      <th>p3</th>\n",
       "      <th>p4</th>\n",
       "      <th>g1</th>\n",
       "      <th>g2</th>\n",
       "      <th>g3</th>\n",
       "      <th>g4</th>\n",
       "      <th>stab</th>\n",
       "      <th>stabf</th>\n",
       "    </tr>\n",
       "  </thead>\n",
       "  <tbody>\n",
       "    <tr>\n",
       "      <th>0</th>\n",
       "      <td>2.959060</td>\n",
       "      <td>3.079885</td>\n",
       "      <td>8.381025</td>\n",
       "      <td>9.780754</td>\n",
       "      <td>3.763085</td>\n",
       "      <td>-0.782604</td>\n",
       "      <td>-1.257395</td>\n",
       "      <td>-1.723086</td>\n",
       "      <td>0.650456</td>\n",
       "      <td>0.859578</td>\n",
       "      <td>0.887445</td>\n",
       "      <td>0.958034</td>\n",
       "      <td>0.055347</td>\n",
       "      <td>unstable</td>\n",
       "    </tr>\n",
       "    <tr>\n",
       "      <th>1</th>\n",
       "      <td>9.304097</td>\n",
       "      <td>4.902524</td>\n",
       "      <td>3.047541</td>\n",
       "      <td>1.369357</td>\n",
       "      <td>5.067812</td>\n",
       "      <td>-1.940058</td>\n",
       "      <td>-1.872742</td>\n",
       "      <td>-1.255012</td>\n",
       "      <td>0.413441</td>\n",
       "      <td>0.862414</td>\n",
       "      <td>0.562139</td>\n",
       "      <td>0.781760</td>\n",
       "      <td>-0.005957</td>\n",
       "      <td>stable</td>\n",
       "    </tr>\n",
       "    <tr>\n",
       "      <th>2</th>\n",
       "      <td>8.971707</td>\n",
       "      <td>8.848428</td>\n",
       "      <td>3.046479</td>\n",
       "      <td>1.214518</td>\n",
       "      <td>3.405158</td>\n",
       "      <td>-1.207456</td>\n",
       "      <td>-1.277210</td>\n",
       "      <td>-0.920492</td>\n",
       "      <td>0.163041</td>\n",
       "      <td>0.766689</td>\n",
       "      <td>0.839444</td>\n",
       "      <td>0.109853</td>\n",
       "      <td>0.003471</td>\n",
       "      <td>unstable</td>\n",
       "    </tr>\n",
       "    <tr>\n",
       "      <th>3</th>\n",
       "      <td>0.716415</td>\n",
       "      <td>7.669600</td>\n",
       "      <td>4.486641</td>\n",
       "      <td>2.340563</td>\n",
       "      <td>3.963791</td>\n",
       "      <td>-1.027473</td>\n",
       "      <td>-1.938944</td>\n",
       "      <td>-0.997374</td>\n",
       "      <td>0.446209</td>\n",
       "      <td>0.976744</td>\n",
       "      <td>0.929381</td>\n",
       "      <td>0.362718</td>\n",
       "      <td>0.028871</td>\n",
       "      <td>unstable</td>\n",
       "    </tr>\n",
       "    <tr>\n",
       "      <th>4</th>\n",
       "      <td>3.134112</td>\n",
       "      <td>7.608772</td>\n",
       "      <td>4.943759</td>\n",
       "      <td>9.857573</td>\n",
       "      <td>3.525811</td>\n",
       "      <td>-1.125531</td>\n",
       "      <td>-1.845975</td>\n",
       "      <td>-0.554305</td>\n",
       "      <td>0.797110</td>\n",
       "      <td>0.455450</td>\n",
       "      <td>0.656947</td>\n",
       "      <td>0.820923</td>\n",
       "      <td>0.049860</td>\n",
       "      <td>unstable</td>\n",
       "    </tr>\n",
       "  </tbody>\n",
       "</table>\n",
       "</div>"
      ],
      "text/plain": [
       "       tau1      tau2      tau3      tau4        p1        p2        p3  \\\n",
       "0  2.959060  3.079885  8.381025  9.780754  3.763085 -0.782604 -1.257395   \n",
       "1  9.304097  4.902524  3.047541  1.369357  5.067812 -1.940058 -1.872742   \n",
       "2  8.971707  8.848428  3.046479  1.214518  3.405158 -1.207456 -1.277210   \n",
       "3  0.716415  7.669600  4.486641  2.340563  3.963791 -1.027473 -1.938944   \n",
       "4  3.134112  7.608772  4.943759  9.857573  3.525811 -1.125531 -1.845975   \n",
       "\n",
       "         p4        g1        g2        g3        g4      stab     stabf  \n",
       "0 -1.723086  0.650456  0.859578  0.887445  0.958034  0.055347  unstable  \n",
       "1 -1.255012  0.413441  0.862414  0.562139  0.781760 -0.005957    stable  \n",
       "2 -0.920492  0.163041  0.766689  0.839444  0.109853  0.003471  unstable  \n",
       "3 -0.997374  0.446209  0.976744  0.929381  0.362718  0.028871  unstable  \n",
       "4 -0.554305  0.797110  0.455450  0.656947  0.820923  0.049860  unstable  "
      ]
     },
     "execution_count": 3,
     "metadata": {},
     "output_type": "execute_result"
    }
   ],
   "source": [
    "data_set.head()"
   ]
  },
  {
   "cell_type": "code",
   "execution_count": 4,
   "metadata": {},
   "outputs": [
    {
     "data": {
      "text/plain": [
       "unstable    6380\n",
       "stable      3620\n",
       "Name: stabf, dtype: int64"
      ]
     },
     "execution_count": 4,
     "metadata": {},
     "output_type": "execute_result"
    }
   ],
   "source": [
    "data_set['stabf'].value_counts()"
   ]
  },
  {
   "cell_type": "code",
   "execution_count": 5,
   "metadata": {},
   "outputs": [
    {
     "data": {
      "text/plain": [
       "tau1     0\n",
       "tau2     0\n",
       "tau3     0\n",
       "tau4     0\n",
       "p1       0\n",
       "p2       0\n",
       "p3       0\n",
       "p4       0\n",
       "g1       0\n",
       "g2       0\n",
       "g3       0\n",
       "g4       0\n",
       "stab     0\n",
       "stabf    0\n",
       "dtype: int64"
      ]
     },
     "execution_count": 5,
     "metadata": {},
     "output_type": "execute_result"
    }
   ],
   "source": [
    "data_set.isnull().sum()"
   ]
  },
  {
   "cell_type": "code",
   "execution_count": 6,
   "metadata": {},
   "outputs": [],
   "source": [
    "data_set_U= data_set[data_set.stabf=='unstable' ].sample(350)"
   ]
  },
  {
   "cell_type": "code",
   "execution_count": 7,
   "metadata": {},
   "outputs": [
    {
     "data": {
      "text/plain": [
       "unstable    350\n",
       "Name: stabf, dtype: int64"
      ]
     },
     "execution_count": 7,
     "metadata": {},
     "output_type": "execute_result"
    }
   ],
   "source": [
    "data_set_U.stabf.value_counts()"
   ]
  },
  {
   "cell_type": "code",
   "execution_count": 8,
   "metadata": {},
   "outputs": [
    {
     "data": {
      "text/html": [
       "<div>\n",
       "<style scoped>\n",
       "    .dataframe tbody tr th:only-of-type {\n",
       "        vertical-align: middle;\n",
       "    }\n",
       "\n",
       "    .dataframe tbody tr th {\n",
       "        vertical-align: top;\n",
       "    }\n",
       "\n",
       "    .dataframe thead th {\n",
       "        text-align: right;\n",
       "    }\n",
       "</style>\n",
       "<table border=\"1\" class=\"dataframe\">\n",
       "  <thead>\n",
       "    <tr style=\"text-align: right;\">\n",
       "      <th></th>\n",
       "      <th>tau1</th>\n",
       "      <th>tau2</th>\n",
       "      <th>tau3</th>\n",
       "      <th>tau4</th>\n",
       "      <th>p1</th>\n",
       "      <th>p2</th>\n",
       "      <th>p3</th>\n",
       "      <th>p4</th>\n",
       "      <th>g1</th>\n",
       "      <th>g2</th>\n",
       "      <th>g3</th>\n",
       "      <th>g4</th>\n",
       "      <th>stab</th>\n",
       "      <th>stabf</th>\n",
       "    </tr>\n",
       "  </thead>\n",
       "  <tbody>\n",
       "    <tr>\n",
       "      <th>6975</th>\n",
       "      <td>2.877673</td>\n",
       "      <td>2.603703</td>\n",
       "      <td>5.471896</td>\n",
       "      <td>6.988286</td>\n",
       "      <td>4.391092</td>\n",
       "      <td>-1.185692</td>\n",
       "      <td>-1.288032</td>\n",
       "      <td>-1.917368</td>\n",
       "      <td>0.450887</td>\n",
       "      <td>0.378269</td>\n",
       "      <td>0.883307</td>\n",
       "      <td>0.768578</td>\n",
       "      <td>0.052320</td>\n",
       "      <td>unstable</td>\n",
       "    </tr>\n",
       "    <tr>\n",
       "      <th>6416</th>\n",
       "      <td>7.706566</td>\n",
       "      <td>4.712375</td>\n",
       "      <td>9.563170</td>\n",
       "      <td>8.391521</td>\n",
       "      <td>3.431817</td>\n",
       "      <td>-1.730646</td>\n",
       "      <td>-0.519121</td>\n",
       "      <td>-1.182050</td>\n",
       "      <td>0.709193</td>\n",
       "      <td>0.756837</td>\n",
       "      <td>0.633792</td>\n",
       "      <td>0.065164</td>\n",
       "      <td>0.052544</td>\n",
       "      <td>unstable</td>\n",
       "    </tr>\n",
       "    <tr>\n",
       "      <th>4896</th>\n",
       "      <td>6.459979</td>\n",
       "      <td>9.736667</td>\n",
       "      <td>7.525327</td>\n",
       "      <td>3.379675</td>\n",
       "      <td>4.792032</td>\n",
       "      <td>-1.878083</td>\n",
       "      <td>-1.783775</td>\n",
       "      <td>-1.130174</td>\n",
       "      <td>0.136270</td>\n",
       "      <td>0.461935</td>\n",
       "      <td>0.966347</td>\n",
       "      <td>0.727590</td>\n",
       "      <td>0.046683</td>\n",
       "      <td>unstable</td>\n",
       "    </tr>\n",
       "    <tr>\n",
       "      <th>3450</th>\n",
       "      <td>5.858016</td>\n",
       "      <td>6.973412</td>\n",
       "      <td>4.478434</td>\n",
       "      <td>7.770710</td>\n",
       "      <td>4.056539</td>\n",
       "      <td>-0.806007</td>\n",
       "      <td>-1.285332</td>\n",
       "      <td>-1.965200</td>\n",
       "      <td>0.596790</td>\n",
       "      <td>0.309962</td>\n",
       "      <td>0.121850</td>\n",
       "      <td>0.960542</td>\n",
       "      <td>0.053894</td>\n",
       "      <td>unstable</td>\n",
       "    </tr>\n",
       "    <tr>\n",
       "      <th>1491</th>\n",
       "      <td>8.468891</td>\n",
       "      <td>1.047125</td>\n",
       "      <td>4.310339</td>\n",
       "      <td>8.134035</td>\n",
       "      <td>3.169646</td>\n",
       "      <td>-0.986798</td>\n",
       "      <td>-0.639997</td>\n",
       "      <td>-1.542852</td>\n",
       "      <td>0.916691</td>\n",
       "      <td>0.127947</td>\n",
       "      <td>0.056346</td>\n",
       "      <td>0.611710</td>\n",
       "      <td>0.035609</td>\n",
       "      <td>unstable</td>\n",
       "    </tr>\n",
       "  </tbody>\n",
       "</table>\n",
       "</div>"
      ],
      "text/plain": [
       "          tau1      tau2      tau3      tau4        p1        p2        p3  \\\n",
       "6975  2.877673  2.603703  5.471896  6.988286  4.391092 -1.185692 -1.288032   \n",
       "6416  7.706566  4.712375  9.563170  8.391521  3.431817 -1.730646 -0.519121   \n",
       "4896  6.459979  9.736667  7.525327  3.379675  4.792032 -1.878083 -1.783775   \n",
       "3450  5.858016  6.973412  4.478434  7.770710  4.056539 -0.806007 -1.285332   \n",
       "1491  8.468891  1.047125  4.310339  8.134035  3.169646 -0.986798 -0.639997   \n",
       "\n",
       "            p4        g1        g2        g3        g4      stab     stabf  \n",
       "6975 -1.917368  0.450887  0.378269  0.883307  0.768578  0.052320  unstable  \n",
       "6416 -1.182050  0.709193  0.756837  0.633792  0.065164  0.052544  unstable  \n",
       "4896 -1.130174  0.136270  0.461935  0.966347  0.727590  0.046683  unstable  \n",
       "3450 -1.965200  0.596790  0.309962  0.121850  0.960542  0.053894  unstable  \n",
       "1491 -1.542852  0.916691  0.127947  0.056346  0.611710  0.035609  unstable  "
      ]
     },
     "execution_count": 8,
     "metadata": {},
     "output_type": "execute_result"
    }
   ],
   "source": [
    "data_set_U.head()"
   ]
  },
  {
   "cell_type": "code",
   "execution_count": 9,
   "metadata": {},
   "outputs": [
    {
     "data": {
      "text/plain": [
       "(350, 14)"
      ]
     },
     "execution_count": 9,
     "metadata": {},
     "output_type": "execute_result"
    }
   ],
   "source": [
    "data_set_U.shape"
   ]
  },
  {
   "cell_type": "code",
   "execution_count": 10,
   "metadata": {},
   "outputs": [],
   "source": [
    "data_set_S= data_set[data_set.stabf=='stable' ].sample( 240 ) "
   ]
  },
  {
   "cell_type": "code",
   "execution_count": 11,
   "metadata": {},
   "outputs": [
    {
     "data": {
      "text/plain": [
       "(240, 14)"
      ]
     },
     "execution_count": 11,
     "metadata": {},
     "output_type": "execute_result"
    }
   ],
   "source": [
    "data_set_S.shape"
   ]
  },
  {
   "cell_type": "code",
   "execution_count": 12,
   "metadata": {},
   "outputs": [
    {
     "data": {
      "text/html": [
       "<div>\n",
       "<style scoped>\n",
       "    .dataframe tbody tr th:only-of-type {\n",
       "        vertical-align: middle;\n",
       "    }\n",
       "\n",
       "    .dataframe tbody tr th {\n",
       "        vertical-align: top;\n",
       "    }\n",
       "\n",
       "    .dataframe thead th {\n",
       "        text-align: right;\n",
       "    }\n",
       "</style>\n",
       "<table border=\"1\" class=\"dataframe\">\n",
       "  <thead>\n",
       "    <tr style=\"text-align: right;\">\n",
       "      <th></th>\n",
       "      <th>tau1</th>\n",
       "      <th>tau2</th>\n",
       "      <th>tau3</th>\n",
       "      <th>tau4</th>\n",
       "      <th>p1</th>\n",
       "      <th>p2</th>\n",
       "      <th>p3</th>\n",
       "      <th>p4</th>\n",
       "      <th>g1</th>\n",
       "      <th>g2</th>\n",
       "      <th>g3</th>\n",
       "      <th>g4</th>\n",
       "      <th>stab</th>\n",
       "      <th>stabf</th>\n",
       "    </tr>\n",
       "  </thead>\n",
       "  <tbody>\n",
       "    <tr>\n",
       "      <th>2465</th>\n",
       "      <td>0.728186</td>\n",
       "      <td>1.780958</td>\n",
       "      <td>2.998783</td>\n",
       "      <td>7.238208</td>\n",
       "      <td>3.184408</td>\n",
       "      <td>-0.698908</td>\n",
       "      <td>-0.943495</td>\n",
       "      <td>-1.542005</td>\n",
       "      <td>0.194109</td>\n",
       "      <td>0.528008</td>\n",
       "      <td>0.501233</td>\n",
       "      <td>0.741934</td>\n",
       "      <td>-0.025668</td>\n",
       "      <td>stable</td>\n",
       "    </tr>\n",
       "    <tr>\n",
       "      <th>6825</th>\n",
       "      <td>8.250594</td>\n",
       "      <td>1.552876</td>\n",
       "      <td>2.531845</td>\n",
       "      <td>3.545719</td>\n",
       "      <td>5.247032</td>\n",
       "      <td>-1.984755</td>\n",
       "      <td>-1.890144</td>\n",
       "      <td>-1.372132</td>\n",
       "      <td>0.476846</td>\n",
       "      <td>0.955409</td>\n",
       "      <td>0.290583</td>\n",
       "      <td>0.950382</td>\n",
       "      <td>-0.023157</td>\n",
       "      <td>stable</td>\n",
       "    </tr>\n",
       "    <tr>\n",
       "      <th>7565</th>\n",
       "      <td>5.629575</td>\n",
       "      <td>1.414393</td>\n",
       "      <td>2.902362</td>\n",
       "      <td>7.074261</td>\n",
       "      <td>3.420547</td>\n",
       "      <td>-1.583391</td>\n",
       "      <td>-0.599578</td>\n",
       "      <td>-1.237578</td>\n",
       "      <td>0.529979</td>\n",
       "      <td>0.638092</td>\n",
       "      <td>0.417988</td>\n",
       "      <td>0.123154</td>\n",
       "      <td>-0.026455</td>\n",
       "      <td>stable</td>\n",
       "    </tr>\n",
       "    <tr>\n",
       "      <th>5047</th>\n",
       "      <td>6.317893</td>\n",
       "      <td>7.422770</td>\n",
       "      <td>2.666084</td>\n",
       "      <td>0.880229</td>\n",
       "      <td>3.112980</td>\n",
       "      <td>-1.197747</td>\n",
       "      <td>-0.587298</td>\n",
       "      <td>-1.327935</td>\n",
       "      <td>0.735559</td>\n",
       "      <td>0.319328</td>\n",
       "      <td>0.286639</td>\n",
       "      <td>0.267666</td>\n",
       "      <td>-0.006904</td>\n",
       "      <td>stable</td>\n",
       "    </tr>\n",
       "    <tr>\n",
       "      <th>7729</th>\n",
       "      <td>5.440234</td>\n",
       "      <td>8.972432</td>\n",
       "      <td>7.428708</td>\n",
       "      <td>1.694997</td>\n",
       "      <td>2.847723</td>\n",
       "      <td>-0.533720</td>\n",
       "      <td>-1.308263</td>\n",
       "      <td>-1.005740</td>\n",
       "      <td>0.364653</td>\n",
       "      <td>0.224244</td>\n",
       "      <td>0.439619</td>\n",
       "      <td>0.280117</td>\n",
       "      <td>-0.011204</td>\n",
       "      <td>stable</td>\n",
       "    </tr>\n",
       "  </tbody>\n",
       "</table>\n",
       "</div>"
      ],
      "text/plain": [
       "          tau1      tau2      tau3      tau4        p1        p2        p3  \\\n",
       "2465  0.728186  1.780958  2.998783  7.238208  3.184408 -0.698908 -0.943495   \n",
       "6825  8.250594  1.552876  2.531845  3.545719  5.247032 -1.984755 -1.890144   \n",
       "7565  5.629575  1.414393  2.902362  7.074261  3.420547 -1.583391 -0.599578   \n",
       "5047  6.317893  7.422770  2.666084  0.880229  3.112980 -1.197747 -0.587298   \n",
       "7729  5.440234  8.972432  7.428708  1.694997  2.847723 -0.533720 -1.308263   \n",
       "\n",
       "            p4        g1        g2        g3        g4      stab   stabf  \n",
       "2465 -1.542005  0.194109  0.528008  0.501233  0.741934 -0.025668  stable  \n",
       "6825 -1.372132  0.476846  0.955409  0.290583  0.950382 -0.023157  stable  \n",
       "7565 -1.237578  0.529979  0.638092  0.417988  0.123154 -0.026455  stable  \n",
       "5047 -1.327935  0.735559  0.319328  0.286639  0.267666 -0.006904  stable  \n",
       "7729 -1.005740  0.364653  0.224244  0.439619  0.280117 -0.011204  stable  "
      ]
     },
     "execution_count": 12,
     "metadata": {},
     "output_type": "execute_result"
    }
   ],
   "source": [
    "data_set_S.head()"
   ]
  },
  {
   "cell_type": "code",
   "execution_count": 13,
   "metadata": {},
   "outputs": [
    {
     "data": {
      "text/plain": [
       "stable    240\n",
       "Name: stabf, dtype: int64"
      ]
     },
     "execution_count": 13,
     "metadata": {},
     "output_type": "execute_result"
    }
   ],
   "source": [
    "data_set_S.stabf.value_counts()"
   ]
  },
  {
   "cell_type": "code",
   "execution_count": 14,
   "metadata": {},
   "outputs": [],
   "source": [
    "data_set_New = data_set_U.append(data_set_S)"
   ]
  },
  {
   "cell_type": "code",
   "execution_count": 15,
   "metadata": {},
   "outputs": [
    {
     "data": {
      "text/plain": [
       "unstable    350\n",
       "stable      240\n",
       "Name: stabf, dtype: int64"
      ]
     },
     "execution_count": 15,
     "metadata": {},
     "output_type": "execute_result"
    }
   ],
   "source": [
    "data_set_New.stabf.value_counts()"
   ]
  },
  {
   "cell_type": "code",
   "execution_count": 16,
   "metadata": {},
   "outputs": [],
   "source": [
    "import sklearn.utils "
   ]
  },
  {
   "cell_type": "code",
   "execution_count": 17,
   "metadata": {},
   "outputs": [],
   "source": [
    "data_set_New = sklearn.utils.shuffle(data_set_New) "
   ]
  },
  {
   "cell_type": "code",
   "execution_count": 18,
   "metadata": {},
   "outputs": [],
   "source": [
    "data_set_New =data_set_New.reset_index(drop= True ) "
   ]
  },
  {
   "cell_type": "code",
   "execution_count": 19,
   "metadata": {},
   "outputs": [
    {
     "data": {
      "text/html": [
       "<div>\n",
       "<style scoped>\n",
       "    .dataframe tbody tr th:only-of-type {\n",
       "        vertical-align: middle;\n",
       "    }\n",
       "\n",
       "    .dataframe tbody tr th {\n",
       "        vertical-align: top;\n",
       "    }\n",
       "\n",
       "    .dataframe thead th {\n",
       "        text-align: right;\n",
       "    }\n",
       "</style>\n",
       "<table border=\"1\" class=\"dataframe\">\n",
       "  <thead>\n",
       "    <tr style=\"text-align: right;\">\n",
       "      <th></th>\n",
       "      <th>tau1</th>\n",
       "      <th>tau2</th>\n",
       "      <th>tau3</th>\n",
       "      <th>tau4</th>\n",
       "      <th>p1</th>\n",
       "      <th>p2</th>\n",
       "      <th>p3</th>\n",
       "      <th>p4</th>\n",
       "      <th>g1</th>\n",
       "      <th>g2</th>\n",
       "      <th>g3</th>\n",
       "      <th>g4</th>\n",
       "      <th>stab</th>\n",
       "      <th>stabf</th>\n",
       "    </tr>\n",
       "  </thead>\n",
       "  <tbody>\n",
       "    <tr>\n",
       "      <th>0</th>\n",
       "      <td>2.717959</td>\n",
       "      <td>3.882854</td>\n",
       "      <td>3.496091</td>\n",
       "      <td>3.256087</td>\n",
       "      <td>3.769476</td>\n",
       "      <td>-0.771880</td>\n",
       "      <td>-1.810453</td>\n",
       "      <td>-1.187143</td>\n",
       "      <td>0.677312</td>\n",
       "      <td>0.176587</td>\n",
       "      <td>0.481284</td>\n",
       "      <td>0.520976</td>\n",
       "      <td>0.000289</td>\n",
       "      <td>unstable</td>\n",
       "    </tr>\n",
       "    <tr>\n",
       "      <th>1</th>\n",
       "      <td>5.152157</td>\n",
       "      <td>5.831119</td>\n",
       "      <td>1.106124</td>\n",
       "      <td>0.764954</td>\n",
       "      <td>3.144151</td>\n",
       "      <td>-0.895924</td>\n",
       "      <td>-1.743306</td>\n",
       "      <td>-0.504921</td>\n",
       "      <td>0.952293</td>\n",
       "      <td>0.992309</td>\n",
       "      <td>0.482340</td>\n",
       "      <td>0.460483</td>\n",
       "      <td>0.035159</td>\n",
       "      <td>unstable</td>\n",
       "    </tr>\n",
       "    <tr>\n",
       "      <th>2</th>\n",
       "      <td>7.684628</td>\n",
       "      <td>4.628793</td>\n",
       "      <td>2.280345</td>\n",
       "      <td>1.775311</td>\n",
       "      <td>3.160737</td>\n",
       "      <td>-0.784598</td>\n",
       "      <td>-1.334013</td>\n",
       "      <td>-1.042126</td>\n",
       "      <td>0.467013</td>\n",
       "      <td>0.965068</td>\n",
       "      <td>0.867955</td>\n",
       "      <td>0.935819</td>\n",
       "      <td>0.033286</td>\n",
       "      <td>unstable</td>\n",
       "    </tr>\n",
       "    <tr>\n",
       "      <th>3</th>\n",
       "      <td>4.048575</td>\n",
       "      <td>5.999116</td>\n",
       "      <td>9.921891</td>\n",
       "      <td>9.025934</td>\n",
       "      <td>4.178513</td>\n",
       "      <td>-1.618742</td>\n",
       "      <td>-1.882487</td>\n",
       "      <td>-0.677283</td>\n",
       "      <td>0.061246</td>\n",
       "      <td>0.302507</td>\n",
       "      <td>0.102847</td>\n",
       "      <td>0.643015</td>\n",
       "      <td>0.004163</td>\n",
       "      <td>unstable</td>\n",
       "    </tr>\n",
       "    <tr>\n",
       "      <th>4</th>\n",
       "      <td>9.512083</td>\n",
       "      <td>8.440511</td>\n",
       "      <td>2.047393</td>\n",
       "      <td>5.350150</td>\n",
       "      <td>3.277504</td>\n",
       "      <td>-0.837423</td>\n",
       "      <td>-1.762547</td>\n",
       "      <td>-0.677533</td>\n",
       "      <td>0.550417</td>\n",
       "      <td>0.247112</td>\n",
       "      <td>0.528657</td>\n",
       "      <td>0.130733</td>\n",
       "      <td>-0.011577</td>\n",
       "      <td>stable</td>\n",
       "    </tr>\n",
       "  </tbody>\n",
       "</table>\n",
       "</div>"
      ],
      "text/plain": [
       "       tau1      tau2      tau3      tau4        p1        p2        p3  \\\n",
       "0  2.717959  3.882854  3.496091  3.256087  3.769476 -0.771880 -1.810453   \n",
       "1  5.152157  5.831119  1.106124  0.764954  3.144151 -0.895924 -1.743306   \n",
       "2  7.684628  4.628793  2.280345  1.775311  3.160737 -0.784598 -1.334013   \n",
       "3  4.048575  5.999116  9.921891  9.025934  4.178513 -1.618742 -1.882487   \n",
       "4  9.512083  8.440511  2.047393  5.350150  3.277504 -0.837423 -1.762547   \n",
       "\n",
       "         p4        g1        g2        g3        g4      stab     stabf  \n",
       "0 -1.187143  0.677312  0.176587  0.481284  0.520976  0.000289  unstable  \n",
       "1 -0.504921  0.952293  0.992309  0.482340  0.460483  0.035159  unstable  \n",
       "2 -1.042126  0.467013  0.965068  0.867955  0.935819  0.033286  unstable  \n",
       "3 -0.677283  0.061246  0.302507  0.102847  0.643015  0.004163  unstable  \n",
       "4 -0.677533  0.550417  0.247112  0.528657  0.130733 -0.011577    stable  "
      ]
     },
     "execution_count": 19,
     "metadata": {},
     "output_type": "execute_result"
    }
   ],
   "source": [
    "data_set_New.head()"
   ]
  },
  {
   "cell_type": "code",
   "execution_count": 20,
   "metadata": {},
   "outputs": [
    {
     "data": {
      "text/plain": [
       "unstable    350\n",
       "stable      240\n",
       "Name: stabf, dtype: int64"
      ]
     },
     "execution_count": 20,
     "metadata": {},
     "output_type": "execute_result"
    }
   ],
   "source": [
    "data_set_New.stabf.value_counts()"
   ]
  },
  {
   "cell_type": "code",
   "execution_count": 21,
   "metadata": {},
   "outputs": [
    {
     "data": {
      "text/plain": [
       "(590, 14)"
      ]
     },
     "execution_count": 21,
     "metadata": {},
     "output_type": "execute_result"
    }
   ],
   "source": [
    "data_set_New.shape"
   ]
  },
  {
   "cell_type": "code",
   "execution_count": 22,
   "metadata": {},
   "outputs": [
    {
     "data": {
      "text/plain": [
       "tau1     float64\n",
       "tau2     float64\n",
       "tau3     float64\n",
       "tau4     float64\n",
       "p1       float64\n",
       "p2       float64\n",
       "p3       float64\n",
       "p4       float64\n",
       "g1       float64\n",
       "g2       float64\n",
       "g3       float64\n",
       "g4       float64\n",
       "stab     float64\n",
       "stabf     object\n",
       "dtype: object"
      ]
     },
     "execution_count": 22,
     "metadata": {},
     "output_type": "execute_result"
    }
   ],
   "source": [
    "data_set_New.dtypes"
   ]
  },
  {
   "cell_type": "code",
   "execution_count": 23,
   "metadata": {},
   "outputs": [],
   "source": [
    "X = data_set_New.drop(columns='stabf')"
   ]
  },
  {
   "cell_type": "code",
   "execution_count": 24,
   "metadata": {},
   "outputs": [],
   "source": [
    "y =data_set_New[ 'stabf' ] "
   ]
  },
  {
   "cell_type": "markdown",
   "metadata": {},
   "source": [
    "#### split the data into training and testing sets"
   ]
  },
  {
   "cell_type": "code",
   "execution_count": 25,
   "metadata": {},
   "outputs": [],
   "source": [
    "from sklearn.model_selection import train_test_split "
   ]
  },
  {
   "cell_type": "code",
   "execution_count": 26,
   "metadata": {},
   "outputs": [],
   "source": [
    "x_train, x_test, y_train, y_test = train_test_split(X, y, test_size= 0.2 , random_state= 1) "
   ]
  },
  {
   "cell_type": "code",
   "execution_count": 27,
   "metadata": {},
   "outputs": [
    {
     "data": {
      "text/plain": [
       "unstable    271\n",
       "stable      201\n",
       "Name: stabf, dtype: int64"
      ]
     },
     "execution_count": 27,
     "metadata": {},
     "output_type": "execute_result"
    }
   ],
   "source": [
    "y_train.value_counts() "
   ]
  },
  {
   "cell_type": "code",
   "execution_count": 28,
   "metadata": {},
   "outputs": [],
   "source": [
    "import imblearn"
   ]
  },
  {
   "cell_type": "code",
   "execution_count": 29,
   "metadata": {},
   "outputs": [],
   "source": [
    "from imblearn.over_sampling import SMOTE "
   ]
  },
  {
   "cell_type": "code",
   "execution_count": 30,
   "metadata": {},
   "outputs": [],
   "source": [
    "smote = SMOTE(random_state= 1 ) "
   ]
  },
  {
   "cell_type": "code",
   "execution_count": 31,
   "metadata": {},
   "outputs": [],
   "source": [
    "x_train_balanced, y_balanced = smote.fit_sample(x_train, y_train)"
   ]
  },
  {
   "cell_type": "code",
   "execution_count": 32,
   "metadata": {},
   "outputs": [
    {
     "data": {
      "text/plain": [
       "stable      271\n",
       "unstable    271\n",
       "Name: stabf, dtype: int64"
      ]
     },
     "execution_count": 32,
     "metadata": {},
     "output_type": "execute_result"
    }
   ],
   "source": [
    "y_balanced.value_counts()"
   ]
  },
  {
   "cell_type": "code",
   "execution_count": 33,
   "metadata": {},
   "outputs": [],
   "source": [
    "from sklearn.preprocessing import MinMaxScaler"
   ]
  },
  {
   "cell_type": "code",
   "execution_count": 34,
   "metadata": {},
   "outputs": [],
   "source": [
    "scaler = MinMaxScaler()"
   ]
  },
  {
   "cell_type": "code",
   "execution_count": 35,
   "metadata": {},
   "outputs": [],
   "source": [
    "from sklearn.linear_model import LogisticRegression"
   ]
  },
  {
   "cell_type": "code",
   "execution_count": 36,
   "metadata": {},
   "outputs": [],
   "source": [
    "log_reg = LogisticRegression()"
   ]
  },
  {
   "cell_type": "code",
   "execution_count": 38,
   "metadata": {},
   "outputs": [
    {
     "ename": "NameError",
     "evalue": "name 'normalised_train_data_set' is not defined",
     "output_type": "error",
     "traceback": [
      "\u001b[1;31m---------------------------------------------------------------------------\u001b[0m",
      "\u001b[1;31mNameError\u001b[0m                                 Traceback (most recent call last)",
      "\u001b[1;32m<ipython-input-38-9eaba5b68e77>\u001b[0m in \u001b[0;36m<module>\u001b[1;34m\u001b[0m\n\u001b[1;32m----> 1\u001b[1;33m \u001b[0mlog_reg\u001b[0m\u001b[1;33m.\u001b[0m\u001b[0mfit\u001b[0m\u001b[1;33m(\u001b[0m\u001b[0mnormalised_train_data_set\u001b[0m\u001b[1;33m,\u001b[0m \u001b[0my_balanced\u001b[0m\u001b[1;33m)\u001b[0m\u001b[1;33m\u001b[0m\u001b[1;33m\u001b[0m\u001b[0m\n\u001b[0m",
      "\u001b[1;31mNameError\u001b[0m: name 'normalised_train_data_set' is not defined"
     ]
    }
   ],
   "source": [
    "log_reg.fit(normalised_train_data_set, y_balanced)"
   ]
  },
  {
   "cell_type": "code",
   "execution_count": null,
   "metadata": {},
   "outputs": [],
   "source": []
  }
 ],
 "metadata": {
  "kernelspec": {
   "display_name": "Python 3",
   "language": "python",
   "name": "python3"
  },
  "language_info": {
   "codemirror_mode": {
    "name": "ipython",
    "version": 3
   },
   "file_extension": ".py",
   "mimetype": "text/x-python",
   "name": "python",
   "nbconvert_exporter": "python",
   "pygments_lexer": "ipython3",
   "version": "3.7.6"
  }
 },
 "nbformat": 4,
 "nbformat_minor": 4
}
